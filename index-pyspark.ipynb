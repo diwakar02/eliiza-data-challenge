{
 "cells": [
  {
   "cell_type": "code",
   "execution_count": 1,
   "metadata": {},
   "outputs": [
    {
     "name": "stdout",
     "output_type": "stream",
     "text": [
      "2.6311408499972285e-05\n",
      "1.159406999999211e-06\n",
      "1.3348710000033568e-06\n"
     ]
    }
   ],
   "source": [
    "# you could do with some help from the given types and functions ;)\n",
    "# below are some usage examples\n",
    "from polygon_utils import *\n",
    "\n",
    "# Carlton Gardens polygon\n",
    "carltonGardensPerimeterLoop = [\n",
    "    (144.970087, -37.800805), (144.974108, -37.801204), (144.973073, -37.807611), (144.968972, -37.807191)\n",
    "]\n",
    "carltonGardensLakeLoop = [\n",
    "    (144.969768, -37.805891), (144.970074, -37.806206), (144.969954, -37.806332), (144.969583, -37.806153),\n",
    "    (144.969689, -37.805985)\n",
    "]\n",
    "carltonGardensPolygon = [carltonGardensPerimeterLoop, carltonGardensLakeLoop]\n",
    "\n",
    "# Royal Exhibition Building polygon\n",
    "exhibitionBuildingPolygon = [\n",
    "    [\n",
    "        (144.972502, -37.804601), (144.972396, -37.805126), (144.970485, -37.804884), (144.970565, -37.804350),\n",
    "        (144.971369, -37.804443), (144.971420, -37.804191), (144.971804, -37.804228), (144.971760, -37.804487)\n",
    "    ]\n",
    "]\n",
    "\n",
    "# WeWork block polygon\n",
    "weWorkBlockPolygon = [\n",
    "    [\n",
    "        (144.963286, -37.814212), (144.964498, -37.813854), (144.964962, -37.814806), (144.963711, -37.815168)\n",
    "    ]\n",
    "]\n",
    "\n",
    "carltonGardensArea = multi_polygon_area([carltonGardensPolygon])\n",
    "print(carltonGardensArea)\n",
    "exhibitionBuildingArea = multi_polygon_area([exhibitionBuildingPolygon])\n",
    "print(exhibitionBuildingArea)\n",
    "weWorkBlockArea = multi_polygon_area([weWorkBlockPolygon])\n",
    "print(weWorkBlockArea)\n",
    "\n",
    "merge = merge_multi_polygons([exhibitionBuildingPolygon], [weWorkBlockPolygon])\n",
    "def approximately(a, b):\n",
    "    return abs(a - b) < 0.000000001\n",
    "assert approximately((exhibitionBuildingArea + weWorkBlockArea), multi_polygon_area(merge))\n",
    "\n",
    "assert may_intersect([carltonGardensPolygon], [exhibitionBuildingPolygon])\n",
    "assert intersection_area([carltonGardensPolygon], [exhibitionBuildingPolygon]) > 0.0\n",
    "\n",
    "assert not may_intersect([carltonGardensPolygon], [weWorkBlockPolygon])\n",
    "assert intersection_area([carltonGardensPolygon], [weWorkBlockPolygon]) == 0.0"
   ]
  },
  {
   "cell_type": "code",
   "execution_count": null,
   "metadata": {},
   "outputs": [],
   "source": []
  }
 ],
 "metadata": {
  "kernelspec": {
   "display_name": "Python 3",
   "language": "python",
   "name": "python3"
  },
  "language_info": {
   "codemirror_mode": {
    "name": "ipython",
    "version": 3
   },
   "file_extension": ".py",
   "mimetype": "text/x-python",
   "name": "python",
   "nbconvert_exporter": "python",
   "pygments_lexer": "ipython3",
   "version": "3.6.3"
  }
 },
 "nbformat": 4,
 "nbformat_minor": 2
}
