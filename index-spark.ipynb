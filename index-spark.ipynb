{
 "cells": [
  {
   "cell_type": "code",
   "execution_count": 1,
   "metadata": {},
   "outputs": [
    {
     "name": "stdout",
     "output_type": "stream",
     "text": [
      "Starting download from https://github.com/eliiza/challenge-urban-forest/blob/master/challenge-urban-forest-jar-assembly-0.0.1.jar?raw=true\n",
      "Finished download of challenge-urban-forest-jar-assembly-0.0.1.jar\n"
     ]
    }
   ],
   "source": [
    "%AddJar https://github.com/eliiza/challenge-urban-forest/blob/master/challenge-urban-forest-jar-assembly-0.0.1.jar?raw=true -f"
   ]
  },
  {
   "cell_type": "code",
   "execution_count": 2,
   "metadata": {
    "scrolled": true
   },
   "outputs": [
    {
     "data": {
      "text/plain": [
       "carltonGardensPerimeter = List(List(144.970087, -37.800805), List(144.974108, -37.801204), List(144.973073, -37.807611), List(144.968972, -37.807191))\n",
       "carltonGardensLake = List(List(144.969768, -37.805891), List(144.970074, -37.806206), List(144.969954, -37.806332), List(144.969583, -37.806153), List(144.969689, -37.805985))\n",
       "carltonGardens = List(List(List(144.970087, -37.800805), List(144.974108, -37.801204), List(144.973073, -37.807611), List(144.968972, -37.807191)), List(List(144.969768, -37.805891), List(144.970074, -37.806206), List(144.969954, -37.806332), List(144.969583, -37.806153), List(144.969689, -37.805985)))\n"
      ]
     },
     "metadata": {},
     "output_type": "display_data"
    },
    {
     "data": {
      "text/plain": [
       "exhibitionBuilding: au.com.eliiz...\n"
      ]
     },
     "metadata": {},
     "output_type": "display_data"
    },
    {
     "data": {
      "text/plain": [
       "List(List(List(144.970087, -37.800805), List(144.974108, -37.801204), List(144.973073, -37.807611), List(144.968972, -37.807191)), List(List(144.969768, -37.805891), List(144.970074, -37.806206), List(144.969954, -37.806332), List(144.969583, -37.806153), List(144.969689, -37.805985)))"
      ]
     },
     "execution_count": 2,
     "metadata": {},
     "output_type": "execute_result"
    }
   ],
   "source": [
    "// you could do with some help from the given types and functions ;)\n",
    "// below are some usage examples\n",
    "import au.com.eliiza.urbanforest._\n",
    "\n",
    "// Carlton Gardens polygon\n",
    "val carltonGardensPerimeter: Loop = Seq(\n",
    "  Seq(144.970087, -37.800805), Seq(144.974108, -37.801204), Seq(144.973073, -37.807611), Seq(144.968972, -37.807191)\n",
    ")\n",
    "val carltonGardensLake: Loop = Seq(\n",
    "  Seq(144.969768, -37.805891), Seq(144.970074, -37.806206), Seq(144.969954, -37.806332), Seq(144.969583, -37.806153), \n",
    "  Seq(144.969689, -37.805985)\n",
    ")\n",
    "val carltonGardens: Polygon = Seq(carltonGardensPerimeter, carltonGardensLake)\n",
    "\n",
    "// Royal Exhibition Building polygon\n",
    "val exhibitionBuilding: Polygon = Seq(\n",
    "  Seq(\n",
    "    Seq(144.972502, -37.804601), Seq(144.972396, -37.805126), Seq(144.970485, -37.804884), Seq(144.970565, -37.804350),\n",
    "    Seq(144.971369, -37.804443), Seq(144.971420, -37.804191), Seq(144.971804, -37.804228), Seq(144.971760, -37.804487)\n",
    "  )\n",
    ")\n",
    "\n",
    "// WeWork block polygon\n",
    "val weWorkBlock: Polygon = Seq(\n",
    "  Seq(\n",
    "    Seq(144.963286, -37.814212), Seq(144.964498, -37.813854), Seq(144.964962, -37.814806), Seq(144.963711, -37.815168)\n",
    "  )\n",
    ")\n",
    "\n",
    "val carltonGardensArea     = multiPolygonArea(Seq(carltonGardens))\n",
    "val exhibitionBuildingArea = multiPolygonArea(Seq(exhibitionBuilding))\n",
    "val weWorkBlockArea        = multiPolygonArea(Seq(weWorkBlock))\n",
    "\n",
    "val merge: MultiPolygon = mergeMultiPolygons(Seq(exhibitionBuilding), Seq(weWorkBlock))\n",
    "def ~=(a: Double, b: Double) = (a - b).abs < 0.000000001\n",
    "assert(~=((exhibitionBuildingArea + weWorkBlockArea), multiPolygonArea(merge)))\n",
    "\n",
    "assert(mayIntersect(Seq(carltonGardens), Seq(exhibitionBuilding)))\n",
    "assert(intersectionArea(Seq(carltonGardens), Seq(exhibitionBuilding)) > 0.0)\n",
    "\n",
    "assert(!mayIntersect(Seq(carltonGardens), Seq(weWorkBlock)))\n",
    "assert(intersectionArea(Seq(carltonGardens), Seq(weWorkBlock)) == 0.0)"
   ]
  },
  {
   "cell_type": "code",
   "execution_count": null,
   "metadata": {},
   "outputs": [],
   "source": []
  }
 ],
 "metadata": {
  "kernelspec": {
   "display_name": "Apache Toree - Scala",
   "language": "scala",
   "name": "apache_toree_scala"
  },
  "language_info": {
   "codemirror_mode": "text/x-scala",
   "file_extension": ".scala",
   "mimetype": "text/x-scala",
   "name": "scala",
   "pygments_lexer": "scala",
   "version": "2.11.8"
  }
 },
 "nbformat": 4,
 "nbformat_minor": 2
}
